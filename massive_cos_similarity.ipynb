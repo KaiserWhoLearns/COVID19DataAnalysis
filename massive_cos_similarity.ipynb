{
 "cells": [
  {
   "cell_type": "code",
   "execution_count": 1,
   "metadata": {},
   "outputs": [],
   "source": [
    "from data import loader\n",
    "from helpers import heatmap\n",
    "import pdb\n",
    "import pandas as pd\n",
    "import numpy as np\n",
    "import matplotlib.pyplot as plt\n",
    "\n",
    "import matplotlib as mpl"
   ]
  },
  {
   "cell_type": "code",
   "execution_count": 4,
   "metadata": {},
   "outputs": [
    {
     "name": "stdout",
     "output_type": "stream",
     "text": [
      "['Africa', 'Asia', 'Europe', 'NorthAmerica', 'SouthAmerica']\n"
     ]
    }
   ],
   "source": [
    "mpl.rcParams['figure.dpi'] = 1000\n",
    "d1 = loader.get_global_case_and_deaths_time_series_data()\n",
    "continent_list = loader.get_available_and_supported_continents()  # In case you want to see continents supported to pass into the call above\n",
    "# d = loader.get_united_states_case_and_death_time_series_data(county=True)  # True if you want State + County, and False if you want only State and not county level.\n",
    "print(continent_list)"
   ]
  },
  {
   "cell_type": "markdown",
   "metadata": {},
   "source": [
    "#### Helper functions"
   ]
  },
  {
   "cell_type": "code",
   "execution_count": 3,
   "metadata": {},
   "outputs": [],
   "source": [
    "def plot_sim_scores(sim_matrix, terr_names, data_type, continent=\"Africa\"):\n",
    "    \"\"\"\n",
    "    Plot the similarity scores between given country\n",
    "    and save them to \"results/similarity scores/\"\n",
    "    \"\"\"\n",
    "    if len(terr_names) > 35:\n",
    "        label_size = 5\n",
    "    else:\n",
    "        label_size = 6\n",
    "\n",
    "    plt.imshow(sim_matrix, vmin=0, vmax=1)\n",
    "    plt.colorbar()\n",
    "\n",
    "    ax = plt.gca()\n",
    "\n",
    "    ax.set_xticks([i for i in range(len(terr_names))])\n",
    "    ax.set_xticklabels(terr_names, Rotation=90)\n",
    "\n",
    "    ax.set_yticks([i for i in range(len(terr_names))])\n",
    "    ax.set_yticklabels(terr_names)\n",
    "    ax.tick_params(axis='both', which='major', labelsize=label_size)\n",
    "    plt.title(data_type + \" cosine similarity near \" + terr_names[0])\n",
    "    plt.savefig(\"results/similarity scores/\" + continent + \"/\" + data_type + \"_\" + terr_names[0] + \".png\")\n",
    "    plt.clf()"
   ]
  },
  {
   "cell_type": "code",
   "execution_count": 6,
   "metadata": {},
   "outputs": [],
   "source": [
    "def compute_cos_scores_with_neighbors(continent):\n",
    "    \n",
    "    d2 = loader.get_continent_specific_case_and_deaths_time_series_data(continent=continent)\n",
    "\n",
    "    # Get countries and territories names in the continent\n",
    "    with open(\"data/territory_names/\" + continent + \"_countries.txt\", \"r\") as f:\n",
    "        country_names = [line.rstrip() for line in f]\n",
    "\n",
    "    neighbors = pd.read_csv(\"data/neighbor_map/neighbors_world.csv\")\n",
    "\n",
    "    data_names = [\"Case Count\", \"Death Count\"]\n",
    "\n",
    "    # For each country, generate the plot in the form of country - neighbors - casecount 0\n",
    "    for df_idx, df in enumerate(d2):\n",
    "        total_days = np.array([\"Day\" in x for x in df.columns]).sum()\n",
    "        columns = [\"Day \" + str(day) for day in range(total_days)]\n",
    "        for base_country in df[\"Admin0\"]:\n",
    "            # Create a matrix to store processed data [country + neighbors, columns]\n",
    "            if type(neighbors.loc[neighbors[\"Country or territory\"]==base_country][\"neighbor list\"].tolist()[0]) is str:\n",
    "                list_of_neighbors = neighbors.loc[neighbors[\"Country or territory\"]==base_country][\"neighbor list\"].tolist()[0].split(\",\")\n",
    "            else:\n",
    "                continue\n",
    "            list_of_neighbors.insert(0, base_country)\n",
    "            # Remove the neighbors not in the list and leading white space\n",
    "            actual_list = []\n",
    "            for idx in range(len(list_of_neighbors)):\n",
    "                list_of_neighbors[idx] = list_of_neighbors[idx].lstrip()\n",
    "                if list_of_neighbors[idx] in country_names:\n",
    "                    actual_list.append(list_of_neighbors[idx])\n",
    "            list_of_neighbors = actual_list\n",
    "\n",
    "            processed_count = np.zeros([len(list_of_neighbors) + 1, len(columns)])\n",
    "            for ctry_idx, country in enumerate(list_of_neighbors):\n",
    "                for idx, col in enumerate(columns):\n",
    "                    processed_count[ctry_idx, idx] = df[df[\"Admin0\"]==country][col].values\n",
    "\n",
    "            sim_matrix = np.zeros([len(list_of_neighbors), len(list_of_neighbors)])\n",
    "            for i in range(len(list_of_neighbors)):\n",
    "                for j in range(len(list_of_neighbors)):\n",
    "                    sim_matrix[i, j] = processed_count[i, :].dot(processed_count[j, :])/ (np.linalg.norm(processed_count[i, :]) * np.linalg.norm(processed_count[j, :]))\n",
    "\n",
    "            plot_sim_scores(sim_matrix, list_of_neighbors, data_names[df_idx], continent)"
   ]
  },
  {
   "cell_type": "code",
   "execution_count": 13,
   "metadata": {},
   "outputs": [
    {
     "name": "stderr",
     "output_type": "stream",
     "text": [
      "/tmp/ipykernel_2656029/2822315786.py:31: RuntimeWarning: invalid value encountered in double_scalars\n",
      "  country_cos_sim.append(buckets[country_idx].dot(buckets[target_country_idx]) / (np.linalg.norm(buckets[country_idx]) * np.linalg.norm(buckets[target_country_idx])))\n"
     ]
    },
    {
     "name": "stdout",
     "output_type": "stream",
     "text": [
      "     Afghanistan   Albania   Algeria   Andorra    Angola  Antigua and Barbuda  \\\n",
      "0       1.000000  0.179438  0.539415  0.105299  0.459774             0.064464   \n",
      "1       0.179438  1.000000  0.471871  0.380684  0.494683             0.551917   \n",
      "2       0.539415  0.471871  1.000000  0.394163  0.749506             0.289432   \n",
      "3       0.105299  0.380684  0.394163  1.000000  0.205284             0.121173   \n",
      "4       0.459774  0.494683  0.749506  0.205284  1.000000             0.666442   \n",
      "..           ...       ...       ...       ...       ...                  ...   \n",
      "189     0.187942  0.571285  0.430138  0.714249  0.283457             0.218434   \n",
      "190     0.280130  0.602343  0.499637  0.668499  0.389094             0.279676   \n",
      "191     0.012585  0.019601  0.097015  0.233630  0.006909             0.024150   \n",
      "192     0.392913  0.269086  0.736357  0.060959  0.855290             0.535567   \n",
      "193     0.285205  0.812115  0.638423  0.605300  0.599942             0.484910   \n",
      "\n",
      "     Argentina   Armenia   Austria  Azerbaijan  ...  Netherlands     Chile  \\\n",
      "0     0.689460  0.245077  0.212678    0.249944  ...     0.176173  0.672662   \n",
      "1     0.458347  0.698834  0.780358    0.704976  ...     0.607456  0.548510   \n",
      "2     0.637955  0.540399  0.445603    0.640394  ...     0.495757  0.633278   \n",
      "3     0.312523  0.279189  0.435386    0.291689  ...     0.841459  0.310508   \n",
      "4     0.691769  0.558365  0.317674    0.641487  ...     0.280819  0.534533   \n",
      "..         ...       ...       ...         ...  ...          ...       ...   \n",
      "189   0.293684  0.414477  0.667551    0.458751  ...     0.873939  0.380666   \n",
      "190   0.429131  0.511543  0.709932    0.582112  ...     0.866800  0.483416   \n",
      "191   0.011189  0.012963  0.054195    0.014216  ...     0.255022  0.021099   \n",
      "192   0.408582  0.398034  0.128026    0.532712  ...     0.119284  0.310427   \n",
      "193   0.496627  0.681981  0.767903    0.742015  ...     0.816101  0.588637   \n",
      "\n",
      "      Ukraine      Peru  Guernsey  United Kingdom    Canada     China  \\\n",
      "0    0.195364  0.337369       NaN        0.187942  0.280130  0.012585   \n",
      "1    0.674156  0.523386       NaN        0.571285  0.602343  0.019601   \n",
      "2    0.391703  0.435465       NaN        0.430138  0.499637  0.097015   \n",
      "3    0.284735  0.330144       NaN        0.714249  0.668499  0.233630   \n",
      "4    0.459941  0.337618       NaN        0.283457  0.389094  0.006909   \n",
      "..        ...       ...       ...             ...       ...       ...   \n",
      "189  0.373166  0.412037       NaN        1.000000  0.915032  0.188702   \n",
      "190  0.471375  0.553999       NaN        0.915032  1.000000  0.206298   \n",
      "191  0.009854  0.040420       NaN        0.188702  0.206298  1.000000   \n",
      "192  0.301871  0.114383       NaN        0.154132  0.194675  0.002583   \n",
      "193  0.624103  0.573101       NaN        0.853821  0.889600  0.150580   \n",
      "\n",
      "     Malaysia        US  \n",
      "0    0.392913  0.285205  \n",
      "1    0.269086  0.812115  \n",
      "2    0.736357  0.638423  \n",
      "3    0.060959  0.605300  \n",
      "4    0.855290  0.599942  \n",
      "..        ...       ...  \n",
      "189  0.154132  0.853821  \n",
      "190  0.194675  0.889600  \n",
      "191  0.002583  0.150580  \n",
      "192  1.000000  0.408556  \n",
      "193  0.408556  1.000000  \n",
      "\n",
      "[194 rows x 194 columns]\n"
     ]
    }
   ],
   "source": [
    "def compute_cos_scores_by_bucket(bucket_length):\n",
    "    \n",
    "    d1 = loader.get_global_case_and_deaths_time_series_data()\n",
    "    data_names = [\"Case Count\", \"Death Count\"]\n",
    "\n",
    "    # For each country, generate the plot in the form of country - neighbors - casecount 0\n",
    "    for df_idx, df in enumerate(d1):\n",
    "        # Begin with 3-22-20 instead of 1-22-20\n",
    "        total_days = np.array([\"Day\" in x for x in df.columns]).sum()\n",
    "        columns = [\"Day \" + str(day) for day in range(60, total_days)]\n",
    "        \n",
    "        columns_bucket = [\"Bucket \" + str(bucket) for bucket in range(int((total_days-60)/bucket_length) + 2)]\n",
    "        groups = []\n",
    "        for bucket in range(len(columns_bucket)):\n",
    "            groups.append([\"Day \" + str(day) for day in range(bucket * bucket_length, (bucket + 1) * bucket_length)])\n",
    "        \n",
    "        # Compute the bucket values\n",
    "        for bucket_idx, group in enumerate(groups):\n",
    "            df[columns_bucket[bucket_idx]] = df[group].sum(axis=1)\n",
    "        \n",
    "        # For each country, create a corresponding time series vector\n",
    "        buckets = df[columns_bucket].to_numpy() # num_countries * num_buckets\n",
    "        country_list = df[\"Admin0\"].to_list()\n",
    "\n",
    "        cosine_sims = {}\n",
    "        \n",
    "        # Compute the cosine similarities for each country\n",
    "        for country_idx, country in enumerate(country_list):\n",
    "            country_cos_sim = []\n",
    "            for target_country_idx, target_country in enumerate(country_list):\n",
    "                country_cos_sim.append(buckets[country_idx].dot(buckets[target_country_idx]) / (np.linalg.norm(buckets[country_idx]) * np.linalg.norm(buckets[target_country_idx])))\n",
    "            cosine_sims[country] = country_cos_sim\n",
    "    return pd.DataFrame(cosine_sims, columns=country_list)\n",
    "print(compute_cos_scores_by_bucket(7))"
   ]
  }
 ],
 "metadata": {
  "interpreter": {
   "hash": "53b1cd902798a815781aad891d2788f681d548aef988bfd638b6514fadc72e10"
  },
  "kernelspec": {
   "display_name": "Python 3.8.12 64-bit ('t5': conda)",
   "language": "python",
   "name": "python3"
  },
  "language_info": {
   "codemirror_mode": {
    "name": "ipython",
    "version": 3
   },
   "file_extension": ".py",
   "mimetype": "text/x-python",
   "name": "python",
   "nbconvert_exporter": "python",
   "pygments_lexer": "ipython3",
   "version": "3.8.12"
  },
  "orig_nbformat": 4
 },
 "nbformat": 4,
 "nbformat_minor": 2
}
