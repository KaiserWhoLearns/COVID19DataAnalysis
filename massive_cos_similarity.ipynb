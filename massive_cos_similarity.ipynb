{
 "cells": [
  {
   "cell_type": "code",
   "execution_count": 2,
   "metadata": {},
   "outputs": [],
   "source": [
    "from data import loader\n",
    "from helpers import heatmap\n",
    "import pdb\n",
    "import pandas as pd\n",
    "import numpy as np\n",
    "import matplotlib.pyplot as plt\n",
    "\n",
    "import matplotlib as mpl"
   ]
  },
  {
   "cell_type": "code",
   "execution_count": 3,
   "metadata": {},
   "outputs": [
    {
     "name": "stdout",
     "output_type": "stream",
     "text": [
      "['Africa', 'Asia', 'Europe', 'NorthAmerica', 'SouthAmerica']\n"
     ]
    }
   ],
   "source": [
    "mpl.rcParams['figure.dpi'] = 1000\n",
    "d1 = loader.get_global_case_and_deaths_time_series_data()\n",
    "continent_list = loader.get_available_and_supported_continents()  # In case you want to see continents supported to pass into the call above\n",
    "# d = loader.get_united_states_case_and_death_time_series_data(county=True)  # True if you want State + County, and False if you want only State and not county level.\n",
    "print(continent_list)"
   ]
  },
  {
   "cell_type": "markdown",
   "metadata": {},
   "source": [
    "#### Helper functions"
   ]
  },
  {
   "cell_type": "code",
   "execution_count": 4,
   "metadata": {},
   "outputs": [],
   "source": [
    "def plot_sim_scores(sim_matrix, terr_names, data_type, continent=\"Africa\"):\n",
    "    \"\"\"\n",
    "    Plot the similarity scores between given country\n",
    "    and save them to \"results/similarity scores/\"\n",
    "    \"\"\"\n",
    "    if len(terr_names) > 35:\n",
    "        label_size = 5\n",
    "    else:\n",
    "        label_size = 6\n",
    "\n",
    "    plt.imshow(sim_matrix, vmin=0, vmax=1)\n",
    "    plt.colorbar()\n",
    "\n",
    "    ax = plt.gca()\n",
    "\n",
    "    ax.set_xticks([i for i in range(len(terr_names))])\n",
    "    ax.set_xticklabels(terr_names, Rotation=90)\n",
    "\n",
    "    ax.set_yticks([i for i in range(len(terr_names))])\n",
    "    ax.set_yticklabels(terr_names)\n",
    "    ax.tick_params(axis='both', which='major', labelsize=label_size)\n",
    "    plt.title(data_type + \" cosine similarity near \" + terr_names[0])\n",
    "    plt.savefig(\"results/similarity scores/\" + continent + \"/\" + data_type + \"_\" + terr_names[0] + \".png\")\n",
    "    plt.clf()"
   ]
  },
  {
   "cell_type": "code",
   "execution_count": 5,
   "metadata": {},
   "outputs": [],
   "source": [
    "def compute_cos_scores_with_neighbors(continent):\n",
    "    \n",
    "    d2 = loader.get_continent_specific_case_and_deaths_time_series_data(continent=continent)\n",
    "\n",
    "    # Get countries and territories names in the continent\n",
    "    with open(\"data/territory_names/\" + continent + \"_countries.txt\", \"r\") as f:\n",
    "        country_names = [line.rstrip() for line in f]\n",
    "\n",
    "    neighbors = pd.read_csv(\"data/neighbor_map/neighbors_world.csv\")\n",
    "\n",
    "    data_names = [\"Case Count\", \"Death Count\"]\n",
    "\n",
    "    # For each country, generate the plot in the form of country - neighbors - casecount 0\n",
    "    for df_idx, df in enumerate(d2):\n",
    "        total_days = np.array([\"Day\" in x for x in df.columns]).sum()\n",
    "        columns = [\"Day \" + str(day) for day in range(total_days)]\n",
    "        for base_country in df[\"Admin0\"]:\n",
    "            # Create a matrix to store processed data [country + neighbors, columns]\n",
    "            if type(neighbors.loc[neighbors[\"Country or territory\"]==base_country][\"neighbor list\"].tolist()[0]) is str:\n",
    "                list_of_neighbors = neighbors.loc[neighbors[\"Country or territory\"]==base_country][\"neighbor list\"].tolist()[0].split(\",\")\n",
    "            else:\n",
    "                continue\n",
    "            list_of_neighbors.insert(0, base_country)\n",
    "            # Remove the neighbors not in the list and leading white space\n",
    "            actual_list = []\n",
    "            for idx in range(len(list_of_neighbors)):\n",
    "                list_of_neighbors[idx] = list_of_neighbors[idx].lstrip()\n",
    "                if list_of_neighbors[idx] in country_names:\n",
    "                    actual_list.append(list_of_neighbors[idx])\n",
    "            list_of_neighbors = actual_list\n",
    "\n",
    "            processed_count = np.zeros([len(list_of_neighbors) + 1, len(columns)])\n",
    "            for ctry_idx, country in enumerate(list_of_neighbors):\n",
    "                for idx, col in enumerate(columns):\n",
    "                    processed_count[ctry_idx, idx] = df[df[\"Admin0\"]==country][col].values\n",
    "\n",
    "            sim_matrix = np.zeros([len(list_of_neighbors), len(list_of_neighbors)])\n",
    "            for i in range(len(list_of_neighbors)):\n",
    "                for j in range(len(list_of_neighbors)):\n",
    "                    sim_matrix[i, j] = processed_count[i, :].dot(processed_count[j, :])/ (np.linalg.norm(processed_count[i, :]) * np.linalg.norm(processed_count[j, :]))\n",
    "\n",
    "            plot_sim_scores(sim_matrix, list_of_neighbors, data_names[df_idx], continent)"
   ]
  },
  {
   "cell_type": "code",
   "execution_count": 6,
   "metadata": {},
   "outputs": [
    {
     "name": "stderr",
     "output_type": "stream",
     "text": [
      "<ipython-input-6-93b14d1f7ec6>:31: RuntimeWarning: invalid value encountered in double_scalars\n",
      "  country_cos_sim.append(buckets[country_idx].dot(buckets[target_country_idx]) / (np.linalg.norm(buckets[country_idx]) * np.linalg.norm(buckets[target_country_idx])))\n"
     ]
    },
    {
     "name": "stdout",
     "output_type": "stream",
     "text": [
      "     Afghanistan   Albania   Algeria   Andorra    Angola  Antigua and Barbuda  \\\n",
      "0       1.000000  0.179708  0.538677  0.105698  0.459851             0.064550   \n",
      "1       0.179708  1.000000  0.475239  0.386265  0.494185             0.550650   \n",
      "2       0.538677  0.475239  1.000000  0.398564  0.748463             0.289257   \n",
      "3       0.105698  0.386265  0.398564  1.000000  0.205779             0.121664   \n",
      "4       0.459851  0.494185  0.748463  0.205779  1.000000             0.666490   \n",
      "..           ...       ...       ...       ...       ...                  ...   \n",
      "190     0.188235  0.572435  0.431855  0.712887  0.283830             0.218579   \n",
      "191     0.282529  0.607571  0.500119  0.664564  0.389056             0.280232   \n",
      "192     0.012585  0.019530  0.096739  0.231769  0.006908             0.024148   \n",
      "193     0.392931  0.272143  0.737174  0.066179  0.854819             0.535242   \n",
      "194     0.283944  0.813170  0.640902  0.610659  0.596270             0.481477   \n",
      "\n",
      "     Argentina   Armenia   Austria  Azerbaijan  ...  Netherlands     Chile  \\\n",
      "0     0.689498  0.244408  0.210650    0.249150  ...     0.175492  0.672279   \n",
      "1     0.457587  0.701103  0.778683    0.707427  ...     0.610790  0.550202   \n",
      "2     0.636936  0.543851  0.450227    0.642883  ...     0.499891  0.634547   \n",
      "3     0.311273  0.287676  0.443821    0.301559  ...     0.841035  0.313505   \n",
      "4     0.691799  0.555438  0.314266    0.637675  ...     0.279302  0.534543   \n",
      "..         ...       ...       ...         ...  ...          ...       ...   \n",
      "190   0.293866  0.416286  0.662573    0.460154  ...     0.868115  0.382102   \n",
      "191   0.430956  0.515959  0.708834    0.584316  ...     0.858536  0.488843   \n",
      "192   0.011188  0.012855  0.053137    0.014088  ...     0.251382  0.021070   \n",
      "193   0.408581  0.400773  0.135459    0.534140  ...     0.126127  0.312290   \n",
      "194   0.493311  0.687255  0.772420    0.746769  ...     0.819836  0.589367   \n",
      "\n",
      "      Ukraine      Peru  Guernsey  United Kingdom    Canada     China  \\\n",
      "0    0.192531  0.337492       NaN        0.188235  0.282529  0.012585   \n",
      "1    0.672820  0.522919       NaN        0.572435  0.607571  0.019530   \n",
      "2    0.397254  0.435507       NaN        0.431855  0.500119  0.096739   \n",
      "3    0.299685  0.329532       NaN        0.712887  0.664564  0.231769   \n",
      "4    0.450712  0.337800       NaN        0.283830  0.389056  0.006908   \n",
      "..        ...       ...       ...             ...       ...       ...   \n",
      "190  0.372927  0.412358       NaN        1.000000  0.915213  0.188513   \n",
      "191  0.470576  0.560050       NaN        0.915213  1.000000  0.198571   \n",
      "192  0.009583  0.040413       NaN        0.188513  0.198571  1.000000   \n",
      "193  0.305208  0.115136       NaN        0.156088  0.193940  0.002579   \n",
      "194  0.633169  0.569928       NaN        0.850894  0.887073  0.149117   \n",
      "\n",
      "     Malaysia        US  \n",
      "0    0.392931  0.283944  \n",
      "1    0.272143  0.813170  \n",
      "2    0.737174  0.640902  \n",
      "3    0.066179  0.610659  \n",
      "4    0.854819  0.596270  \n",
      "..        ...       ...  \n",
      "190  0.156088  0.850894  \n",
      "191  0.193940  0.887073  \n",
      "192  0.002579  0.149117  \n",
      "193  1.000000  0.411256  \n",
      "194  0.411256  1.000000  \n",
      "\n",
      "[195 rows x 195 columns]\n"
     ]
    },
    {
     "name": "stderr",
     "output_type": "stream",
     "text": [
      "<ipython-input-6-93b14d1f7ec6>:31: RuntimeWarning: invalid value encountered in double_scalars\n",
      "  country_cos_sim.append(buckets[country_idx].dot(buckets[target_country_idx]) / (np.linalg.norm(buckets[country_idx]) * np.linalg.norm(buckets[target_country_idx])))\n"
     ]
    }
   ],
   "source": [
    "def compute_cos_scores_by_bucket(bucket_length):\n",
    "    \n",
    "    d1 = loader.get_global_case_and_deaths_time_series_data()\n",
    "    data_names = [\"Case Count\", \"Death Count\"]\n",
    "\n",
    "    # For each country, generate the plot in the form of country - neighbors - casecount 0\n",
    "    for df_idx, df in enumerate(d1):\n",
    "        # Begin with 3-22-20 instead of 1-22-20\n",
    "        total_days = np.array([\"Day\" in x for x in df.columns]).sum()\n",
    "        columns = [\"Day \" + str(day) for day in range(60, total_days)]\n",
    "        \n",
    "        columns_bucket = [\"Bucket \" + str(bucket) for bucket in range(int((total_days-60)/bucket_length) + 2)]\n",
    "        groups = []\n",
    "        for bucket in range(len(columns_bucket)):\n",
    "            groups.append([\"Day \" + str(day) for day in range(bucket * bucket_length, (bucket + 1) * bucket_length)])\n",
    "        \n",
    "        # Compute the bucket values\n",
    "        for bucket_idx, group in enumerate(groups):\n",
    "            df[columns_bucket[bucket_idx]] = df[group].sum(axis=1)\n",
    "        \n",
    "        # For each country, create a corresponding time series vector\n",
    "        buckets = df[columns_bucket].to_numpy() # num_countries * num_buckets\n",
    "        country_list = df[\"Admin0\"].to_list()\n",
    "\n",
    "        cosine_sims = {}\n",
    "        \n",
    "        # Compute the cosine similarities for each country\n",
    "        for country_idx, country in enumerate(country_list):\n",
    "            country_cos_sim = []\n",
    "            for target_country_idx, target_country in enumerate(country_list):\n",
    "                country_cos_sim.append(buckets[country_idx].dot(buckets[target_country_idx]) / (np.linalg.norm(buckets[country_idx]) * np.linalg.norm(buckets[target_country_idx])))\n",
    "            cosine_sims[country] = country_cos_sim\n",
    "    return pd.DataFrame(cosine_sims, columns=country_list)\n",
    "print(compute_cos_scores_by_bucket(7))"
   ]
  }
 ],
 "metadata": {
  "interpreter": {
   "hash": "53b1cd902798a815781aad891d2788f681d548aef988bfd638b6514fadc72e10"
  },
  "kernelspec": {
   "display_name": "Python 3.8.12 64-bit ('t5': conda)",
   "language": "python",
   "name": "python3"
  },
  "language_info": {
   "codemirror_mode": {
    "name": "ipython",
    "version": 3
   },
   "file_extension": ".py",
   "mimetype": "text/x-python",
   "name": "python",
   "nbconvert_exporter": "python",
   "pygments_lexer": "ipython3",
   "version": "3.8.11"
  },
  "orig_nbformat": 4
 },
 "nbformat": 4,
 "nbformat_minor": 2
}
