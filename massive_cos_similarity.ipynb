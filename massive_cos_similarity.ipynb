{
 "cells": [
  {
   "cell_type": "code",
   "execution_count": 1,
   "metadata": {},
   "outputs": [],
   "source": [
    "from data import loader\n",
    "from helpers import heatmap\n",
    "import pdb\n",
    "import pandas as pd\n",
    "import numpy as np\n",
    "import matplotlib.pyplot as plt\n",
    "\n",
    "import matplotlib as mpl"
   ]
  },
  {
   "cell_type": "code",
   "execution_count": 2,
   "metadata": {},
   "outputs": [
    {
     "name": "stdout",
     "output_type": "stream",
     "text": [
      "['Africa', 'Asia', 'Europe', 'NorthAmerica', 'SouthAmerica']\n"
     ]
    }
   ],
   "source": [
    "mpl.rcParams['figure.dpi'] = 1000\n",
    "d1 = loader.get_global_case_and_deaths_time_series_data()\n",
    "continent_list = loader.get_available_and_supported_continents()  # In case you want to see continents supported to pass into the call above\n",
    "# d = loader.get_united_states_case_and_death_time_series_data(county=True)  # True if you want State + County, and False if you want only State and not county level.\n",
    "print(continent_list)"
   ]
  },
  {
   "cell_type": "markdown",
   "metadata": {},
   "source": [
    "#### Helper functions"
   ]
  },
  {
   "cell_type": "code",
   "execution_count": 5,
   "metadata": {},
   "outputs": [],
   "source": [
    "def plot_sim_scores(sim_matrix, terr_names, data_type, continent=\"Africa\"):\n",
    "    \"\"\"\n",
    "    Plot the similarity scores between given country\n",
    "    and save them to \"results/similarity scores/\"\n",
    "    \"\"\"\n",
    "    if len(terr_names) > 35:\n",
    "        label_size = 5\n",
    "    else:\n",
    "        label_size = 7\n",
    "\n",
    "    plt.imshow(sim_matrix, vmin=0, vmax=1)\n",
    "    plt.colorbar()\n",
    "\n",
    "    ax = plt.gca()\n",
    "\n",
    "    ax.set_xticks([i for i in range(len(terr_names))])\n",
    "    # ax.set_xticklabels(terr_names, Rotation=90)\n",
    "    ax.set_xticklabels(terr_names)\n",
    "    for label in ax.get_xticklabels():\n",
    "        label.set_rotation(90)\n",
    "    ax.set_yticks([i for i in range(len(terr_names))])\n",
    "    ax.set_yticklabels(terr_names)\n",
    "    ax.tick_params(axis='both', which='major', labelsize=label_size)\n",
    "    \n",
    "    if continent not in continent_list:\n",
    "        plt.title(data_type + \" cosine similarity for \" + continent)\n",
    "        plt.savefig(\"results/similarity scores/countries/\" + data_type + \"_\" + continent + \".png\", transparent=False, facecolor='white')\n",
    "    else:\n",
    "        plt.title(data_type + \" cosine similarity near \" + terr_names[0])\n",
    "        plt.savefig(\"results/similarity scores/\" + continent + \"/\" + data_type + \"_\" + terr_names[0] + \".pdf\", transparent=False, facecolor='white')\n",
    "    plt.clf()"
   ]
  },
  {
   "cell_type": "code",
   "execution_count": 8,
   "metadata": {},
   "outputs": [],
   "source": [
    "def compute_cos_scores_with_neighbors(continent):\n",
    "    \n",
    "    d2 = loader.get_continent_specific_case_and_deaths_time_series_data(continent=continent)\n",
    "\n",
    "    # Get countries and territories names in the continent\n",
    "    with open(\"data/territory_names/\" + continent + \"_countries.txt\", \"r\") as f:\n",
    "        country_names = [line.rstrip() for line in f]\n",
    "\n",
    "    neighbors = pd.read_csv(\"data/neighbor_map/neighbors_world.csv\")\n",
    "\n",
    "    data_names = [\"Case Count\", \"Death Count\"]\n",
    "\n",
    "    # For each country, generate the plot in the form of country - neighbors - casecount 0\n",
    "    for df_idx, df in enumerate(d2):\n",
    "        total_days = np.array([\"Day\" in x for x in df.columns]).sum()\n",
    "        columns = [\"Day \" + str(day) for day in range(total_days)]\n",
    "        for base_country in df[\"Admin0\"]:\n",
    "            # Create a matrix to store processed data [country + neighbors, columns]\n",
    "            if type(neighbors.loc[neighbors[\"Country or territory\"]==base_country][\"neighbor list\"].tolist()[0]) is str:\n",
    "                list_of_neighbors = neighbors.loc[neighbors[\"Country or territory\"]==base_country][\"neighbor list\"].tolist()[0].split(\",\")\n",
    "            else:\n",
    "                continue\n",
    "            list_of_neighbors.insert(0, base_country)\n",
    "            # Remove the neighbors not in the list and leading white space\n",
    "            actual_list = []\n",
    "            for idx in range(len(list_of_neighbors)):\n",
    "                list_of_neighbors[idx] = list_of_neighbors[idx].lstrip()\n",
    "                if list_of_neighbors[idx] in country_names:\n",
    "                    actual_list.append(list_of_neighbors[idx])\n",
    "            list_of_neighbors = actual_list\n",
    "\n",
    "            processed_count = np.zeros([len(list_of_neighbors) + 1, len(columns)])\n",
    "            for ctry_idx, country in enumerate(list_of_neighbors):\n",
    "                for idx, col in enumerate(columns):\n",
    "                    processed_count[ctry_idx, idx] = df[df[\"Admin0\"]==country][col].values\n",
    "\n",
    "            sim_matrix = np.zeros([len(list_of_neighbors), len(list_of_neighbors)])\n",
    "            for i in range(len(list_of_neighbors)):\n",
    "                for j in range(len(list_of_neighbors)):\n",
    "                    sim_matrix[i, j] = processed_count[i, :].dot(processed_count[j, :])/ (np.linalg.norm(processed_count[i, :]) * np.linalg.norm(processed_count[j, :]))\n",
    "            plot_sim_scores(sim_matrix, list_of_neighbors, data_names[df_idx], continent)"
   ]
  },
  {
   "cell_type": "code",
   "execution_count": 9,
   "metadata": {},
   "outputs": [
    {
     "name": "stderr",
     "output_type": "stream",
     "text": [
      "<ipython-input-9-f72971223fac>:31: RuntimeWarning: invalid value encountered in double_scalars\n",
      "  country_cos_sim.append(buckets[country_idx].dot(buckets[target_country_idx]) / (np.linalg.norm(buckets[country_idx]) * np.linalg.norm(buckets[target_country_idx])))\n"
     ]
    },
    {
     "name": "stdout",
     "output_type": "stream",
     "text": [
      "[     Afghanistan   Albania   Algeria   Andorra    Angola  Antigua and Barbuda  \\\n",
      "0       1.000000  0.140166  0.542814  0.168123  0.324413             0.067713   \n",
      "1       0.140166  1.000000  0.541329  0.556139  0.507709             0.665067   \n",
      "2       0.542814  0.541329  1.000000  0.470417  0.500055             0.254681   \n",
      "3       0.168123  0.556139  0.470417  1.000000  0.606647             0.178586   \n",
      "4       0.324413  0.507709  0.500055  0.606647  1.000000             0.568282   \n",
      "..           ...       ...       ...       ...       ...                  ...   \n",
      "191     0.286587  0.669630  0.574831  0.791044  0.754211             0.467657   \n",
      "192     0.226652  0.682564  0.504373  0.770677  0.815052             0.397372   \n",
      "193     0.032860  0.073645  0.078917  0.072721  0.061370             0.034746   \n",
      "194     0.415022  0.581127  0.660046  0.303571  0.588167             0.670760   \n",
      "195     0.248421  0.849280  0.711615  0.726568  0.678108             0.486523   \n",
      "\n",
      "     Argentina   Armenia   Austria  Azerbaijan  ...  Netherlands     Chile  \\\n",
      "0     0.655436  0.234715  0.124388    0.206969  ...     0.240106  0.627823   \n",
      "1     0.424033  0.690415  0.667048    0.751407  ...     0.646696  0.518997   \n",
      "2     0.645358  0.552681  0.427097    0.629284  ...     0.516870  0.509357   \n",
      "3     0.518945  0.540765  0.670200    0.490950  ...     0.866073  0.448921   \n",
      "4     0.652084  0.521235  0.382950    0.485870  ...     0.530069  0.452174   \n",
      "..         ...       ...       ...         ...  ...          ...       ...   \n",
      "191   0.467881  0.578825  0.646646    0.610905  ...     0.793604  0.383062   \n",
      "192   0.665861  0.588787  0.573665    0.663386  ...     0.745154  0.619226   \n",
      "193   0.058513  0.060299  0.057774    0.066733  ...     0.071015  0.058519   \n",
      "194   0.492111  0.430550  0.382704    0.635585  ...     0.447641  0.366076   \n",
      "195   0.551059  0.682817  0.643627    0.804220  ...     0.742153  0.532966   \n",
      "\n",
      "      Ukraine      Peru  Guernsey  United Kingdom    Canada     China  \\\n",
      "0    0.180377  0.442024 -0.000811        0.286587  0.226652  0.032860   \n",
      "1    0.748379  0.520923 -0.001394        0.669630  0.682564  0.073645   \n",
      "2    0.469002  0.516786 -0.004941        0.574831  0.504373  0.078917   \n",
      "3    0.623216  0.428115 -0.026759        0.791044  0.770677  0.072721   \n",
      "4    0.496105  0.395974 -0.000161        0.754211  0.815052  0.061370   \n",
      "..        ...       ...       ...             ...       ...       ...   \n",
      "191  0.656696  0.311736 -0.003425        1.000000  0.787971  0.080842   \n",
      "192  0.703498  0.551384 -0.006542        0.787971  1.000000  0.078238   \n",
      "193  0.065648  0.058588 -0.001553        0.080842  0.078238  1.000000   \n",
      "194  0.415775  0.274741 -0.002156        0.639856  0.434480  0.053689   \n",
      "195  0.716120  0.507807 -0.006604        0.848433  0.856043  0.094476   \n",
      "\n",
      "     Malaysia        US  \n",
      "0    0.415022  0.248421  \n",
      "1    0.581127  0.849280  \n",
      "2    0.660046  0.711615  \n",
      "3    0.303571  0.726568  \n",
      "4    0.588167  0.678108  \n",
      "..        ...       ...  \n",
      "191  0.639856  0.848433  \n",
      "192  0.434480  0.856043  \n",
      "193  0.053689  0.094476  \n",
      "194  1.000000  0.605153  \n",
      "195  0.605153  1.000000  \n",
      "\n",
      "[196 rows x 196 columns],      Afghanistan   Albania   Algeria   Andorra    Angola  Antigua and Barbuda  \\\n",
      "0       1.000000  0.179964  0.538136  0.106143  0.459560             0.064847   \n",
      "1       0.179964  1.000000  0.477345  0.389817  0.496097             0.551402   \n",
      "2       0.538136  0.477345  1.000000  0.402360  0.749475             0.290726   \n",
      "3       0.106143  0.389817  0.402360  1.000000  0.210673             0.124513   \n",
      "4       0.459560  0.496097  0.749475  0.210673  1.000000             0.666954   \n",
      "..           ...       ...       ...       ...       ...                  ...   \n",
      "191     0.188428  0.572895  0.432663  0.711783  0.284974             0.219356   \n",
      "192     0.282686  0.608136  0.500953  0.664076  0.390158             0.281060   \n",
      "193     0.012584  0.019493  0.096531  0.230522  0.006895             0.024134   \n",
      "194     0.393022  0.273509  0.737353  0.069211  0.854764             0.535771   \n",
      "195     0.283420  0.813630  0.642872  0.614825  0.598311             0.482183   \n",
      "\n",
      "     Argentina   Armenia   Austria  Azerbaijan  ...  Netherlands     Chile  \\\n",
      "0     0.689525  0.244594  0.210837    0.249132  ...     0.175685  0.672219   \n",
      "1     0.457245  0.701691  0.779552    0.708735  ...     0.612646  0.550841   \n",
      "2     0.636114  0.544888  0.452543    0.644681  ...     0.502581  0.634948   \n",
      "3     0.310492  0.290084  0.447177    0.307218  ...     0.842284  0.314959   \n",
      "4     0.690996  0.556421  0.316982    0.639349  ...     0.283000  0.535219   \n",
      "..         ...       ...       ...         ...  ...          ...       ...   \n",
      "191   0.293988  0.416936  0.662781    0.460815  ...     0.867082  0.382672   \n",
      "192   0.430992  0.516600  0.709120    0.584797  ...     0.857794  0.489386   \n",
      "193   0.011188  0.012844  0.053027    0.014044  ...     0.250475  0.021060   \n",
      "194   0.408632  0.401563  0.137228    0.534786  ...     0.128408  0.313013   \n",
      "195   0.491544  0.687224  0.773355    0.748647  ...     0.821283  0.589199   \n",
      "\n",
      "      Ukraine      Peru  Guernsey  United Kingdom    Canada     China  \\\n",
      "0    0.192349  0.337550       NaN        0.188428  0.282686  0.012584   \n",
      "1    0.674115  0.522466       NaN        0.572895  0.608136  0.019493   \n",
      "2    0.401350  0.435143       NaN        0.432663  0.500953  0.096531   \n",
      "3    0.308151  0.328678       NaN        0.711783  0.664076  0.230522   \n",
      "4    0.453981  0.337699       NaN        0.284974  0.390158  0.006895   \n",
      "..        ...       ...       ...             ...       ...       ...   \n",
      "191  0.373599  0.412429       NaN        1.000000  0.915271  0.188400   \n",
      "192  0.470987  0.560016       NaN        0.915271  1.000000  0.198461   \n",
      "193  0.009517  0.040411       NaN        0.188400  0.198461  1.000000   \n",
      "194  0.306812  0.115366       NaN        0.156919  0.194829  0.002578   \n",
      "195  0.637590  0.567772       NaN        0.848967  0.885266  0.148315   \n",
      "\n",
      "     Malaysia        US  \n",
      "0    0.393022  0.283420  \n",
      "1    0.273509  0.813630  \n",
      "2    0.737353  0.642872  \n",
      "3    0.069211  0.614825  \n",
      "4    0.854764  0.598311  \n",
      "..        ...       ...  \n",
      "191  0.156919  0.848967  \n",
      "192  0.194829  0.885266  \n",
      "193  0.002578  0.148315  \n",
      "194  1.000000  0.412253  \n",
      "195  0.412253  1.000000  \n",
      "\n",
      "[196 rows x 196 columns]]\n"
     ]
    },
    {
     "name": "stderr",
     "output_type": "stream",
     "text": [
      "<ipython-input-9-f72971223fac>:31: RuntimeWarning: invalid value encountered in double_scalars\n",
      "  country_cos_sim.append(buckets[country_idx].dot(buckets[target_country_idx]) / (np.linalg.norm(buckets[country_idx]) * np.linalg.norm(buckets[target_country_idx])))\n"
     ]
    }
   ],
   "source": [
    "def compute_cos_scores_by_bucket(bucket_length):\n",
    "    \n",
    "    d1 = loader.get_global_case_and_deaths_time_series_data()\n",
    "    data_names = [\"Case Count\", \"Death Count\"]\n",
    "    all_sim = []\n",
    "    # For each country, generate the plot in the form of country - neighbors - casecount 0\n",
    "    for df_idx, df in enumerate(d1):\n",
    "        # Begin with 3-22-20 instead of 1-22-20\n",
    "        total_days = np.array([\"Day\" in x for x in df.columns]).sum()\n",
    "        columns = [\"Day \" + str(day) for day in range(60, total_days)]\n",
    "        \n",
    "        columns_bucket = [\"Bucket \" + str(bucket) for bucket in range(int((total_days-60)/bucket_length) + 2)]\n",
    "        groups = []\n",
    "        for bucket in range(len(columns_bucket)):\n",
    "            groups.append([\"Day \" + str(day) for day in range(bucket * bucket_length, (bucket + 1) * bucket_length)])\n",
    "        \n",
    "        # Compute the bucket values\n",
    "        for bucket_idx, group in enumerate(groups):\n",
    "            df[columns_bucket[bucket_idx]] = df[group].sum(axis=1)\n",
    "        \n",
    "        # For each country, create a corresponding time series vector\n",
    "        buckets = df[columns_bucket].to_numpy() # num_countries * num_buckets\n",
    "        country_list = df[\"Admin0\"].to_list()\n",
    "\n",
    "        cosine_sims = {}\n",
    "        \n",
    "        # Compute the cosine similarities for each country\n",
    "        for country_idx, country in enumerate(country_list):\n",
    "            country_cos_sim = []\n",
    "            for target_country_idx, target_country in enumerate(country_list):\n",
    "                country_cos_sim.append(buckets[country_idx].dot(buckets[target_country_idx]) / (np.linalg.norm(buckets[country_idx]) * np.linalg.norm(buckets[target_country_idx])))\n",
    "            cosine_sims[country] = country_cos_sim\n",
    "        all_sim.append(pd.DataFrame(cosine_sims, columns=country_list))\n",
    "    return all_sim\n",
    "print(compute_cos_scores_by_bucket(7))"
   ]
  },
  {
   "cell_type": "code",
   "execution_count": 10,
   "metadata": {},
   "outputs": [],
   "source": [
    "data_names = [\"Case Count\", \"Death Count\"]\n",
    "def compute_cosine_sim_within_country(bucket_length, country_name):\n",
    "    \"\"\"\n",
    "    country name has to be within the JHU dataset\n",
    "    \"\"\"\n",
    "    # Get corresponding country's data\n",
    "    d1 = loader.get_country_data_by_province(country_name)\n",
    "\n",
    "    all_sims = []\n",
    "    # For each region, generate the plot in the form of country - neighbors - casecount 0\n",
    "    for df_idx, df in enumerate(d1):\n",
    "        # Begin with 3-22-20 instead of 1-22-20\n",
    "        total_days = np.array([\"Day\" in x for x in df.columns]).sum()\n",
    "        columns = [\"Day \" + str(day) for day in range(60, total_days)]\n",
    "        \n",
    "        columns_bucket = [\"Bucket \" + str(bucket) for bucket in range(int((total_days-60)/bucket_length) + 2)]\n",
    "        groups = []\n",
    "        for bucket in range(len(columns_bucket)):\n",
    "            groups.append([\"Day \" + str(day) for day in range(bucket * bucket_length, (bucket + 1) * bucket_length)])\n",
    "        \n",
    "        # Compute the bucket values\n",
    "        for bucket_idx, group in enumerate(groups):\n",
    "            df[columns_bucket[bucket_idx]] = df[group].sum(axis=1)\n",
    "        \n",
    "        # For each country, create a corresponding time series vector\n",
    "        buckets = df[columns_bucket].to_numpy() # num_countries * num_buckets\n",
    "        province_list = df[\"Admin1\"].to_list()\n",
    "        while \"Unknown\" in province_list:\n",
    "            province_list.remove(\"Unknown\")\n",
    "\n",
    "        cosine_sims = {}\n",
    "        \n",
    "        # Compute the cosine similarities for each province\n",
    "        for province_idx, province in enumerate(province_list):\n",
    "            country_cos_sim = []\n",
    "            for target_country_idx, target_country in enumerate(province_list):\n",
    "                country_cos_sim.append(buckets[province_idx].dot(buckets[target_country_idx]) / (np.linalg.norm(buckets[province_idx]) * np.linalg.norm(buckets[target_country_idx])))\n",
    "            cosine_sims[province] = country_cos_sim\n",
    "        all_sims.append(pd.DataFrame(cosine_sims, columns=province_list))\n",
    "    return all_sims, province_list"
   ]
  },
  {
   "cell_type": "code",
   "execution_count": 5,
   "metadata": {},
   "outputs": [
    {
     "name": "stdout",
     "output_type": "stream",
     "text": [
      "['Australian Capital Territory', 'New South Wales', 'Northern Territory', 'Queensland', 'South Australia', 'Tasmania', 'Victoria', 'Western Australia']\n"
     ]
    },
    {
     "name": "stderr",
     "output_type": "stream",
     "text": [
      "<ipython-input-4-2e6ffa255613>:37: RuntimeWarning: invalid value encountered in double_scalars\n",
      "  country_cos_sim.append(buckets[province_idx].dot(buckets[target_country_idx]) / (np.linalg.norm(buckets[province_idx]) * np.linalg.norm(buckets[target_country_idx])))\n"
     ]
    },
    {
     "name": "stdout",
     "output_type": "stream",
     "text": [
      "['Antwerp', 'Brussels', 'East Flanders', 'Flemish Brabant', 'Hainaut', 'Liege', 'Limburg', 'Luxembourg', 'Namur', 'Walloon Brabant', 'West Flanders']\n"
     ]
    },
    {
     "name": "stderr",
     "output_type": "stream",
     "text": [
      "<ipython-input-4-2e6ffa255613>:37: RuntimeWarning: invalid value encountered in double_scalars\n",
      "  country_cos_sim.append(buckets[province_idx].dot(buckets[target_country_idx]) / (np.linalg.norm(buckets[province_idx]) * np.linalg.norm(buckets[target_country_idx])))\n"
     ]
    },
    {
     "name": "stdout",
     "output_type": "stream",
     "text": [
      "['Anhui', 'Beijing', 'Chongqing', 'Fujian', 'Gansu', 'Guangdong', 'Guangxi', 'Guizhou', 'Hainan', 'Hebei', 'Heilongjiang', 'Henan', 'Hong Kong', 'Hubei', 'Hunan', 'Inner Mongolia', 'Jiangsu', 'Jiangxi', 'Jilin', 'Liaoning', 'Macau', 'Ningxia', 'Qinghai', 'Shaanxi', 'Shandong', 'Shanghai', 'Shanxi', 'Sichuan', 'Tianjin', 'Tibet', 'Xinjiang', 'Yunnan', 'Zhejiang']\n",
      "['Faroe Islands', 'Greenland']\n",
      "['Johor', 'Kedah', 'Kelantan', 'Melaka', 'Negeri Sembilan', 'Pahang', 'Perak', 'Perlis', 'Pulau Pinang', 'Sabah', 'Sarawak', 'Selangor', 'Terengganu', 'W.P. Kuala Lumpur', 'W.P. Labuan', 'W.P. Putrajaya']\n",
      "['Azad Jammu and Kashmir', 'Balochistan', 'Gilgit-Baltistan', 'Islamabad', 'Khyber Pakhtunkhwa', 'Punjab', 'Sindh']\n"
     ]
    },
    {
     "data": {
      "text/plain": [
       "<Figure size 6000x4000 with 0 Axes>"
      ]
     },
     "metadata": {},
     "output_type": "display_data"
    }
   ],
   "source": [
    "# Compute and plot\n",
    "# interested_countries = [\"Germany\", \"Italy\", \"Peru\", \"Japan\"]\n",
    "interested_countries = [\"Australia\", \"Belgium\", \"China\", \"Denmark\", \"Malaysia\", \"Pakistan\"]\n",
    "for country_name in interested_countries:\n",
    "    all_sims, province_list = compute_cosine_sim_within_country(7, country_name)\n",
    "    print(province_list)\n",
    "    for idx, data_name in enumerate(data_names):\n",
    "        plot_sim_scores(all_sims[idx], province_list, data_name, continent=country_name)"
   ]
  },
  {
   "cell_type": "code",
   "execution_count": 11,
   "metadata": {},
   "outputs": [],
   "source": [
    "def plot_sim_scores_for_paper(sim_matrix, terr_names, data_type, continent=\"Africa\"):\n",
    "    \"\"\"\n",
    "    Plot the similarity scores between given country\n",
    "    and save them to \"results/similarity scores/\"\n",
    "    Different from the scratch one, this one does not have title for figs\n",
    "    \"\"\"\n",
    "    if len(terr_names) > 35:\n",
    "        label_size = 5\n",
    "    else:\n",
    "        label_size = 7\n",
    "\n",
    "    plt.imshow(sim_matrix, vmin=0, vmax=1)\n",
    "    plt.colorbar()\n",
    "\n",
    "    ax = plt.gca()\n",
    "\n",
    "    ax.set_xticks([i for i in range(len(terr_names))])\n",
    "    # ax.set_xticklabels(terr_names, Rotation=90)\n",
    "    ax.set_xticklabels(terr_names)\n",
    "    for label in ax.get_xticklabels():\n",
    "        label.set_rotation(90)\n",
    "    ax.set_yticks([i for i in range(len(terr_names))])\n",
    "    ax.set_yticklabels(terr_names)\n",
    "    ax.tick_params(axis='both', which='major', labelsize=label_size)\n",
    "    \n",
    "    if continent not in continent_list:\n",
    "        plt.savefig(\"results/paper result/similarity scores/countries/\" + data_type + \"_\" + continent + \".png\", transparent=False, facecolor='white')\n",
    "    else:\n",
    "        plt.savefig(\"results/paper result/similarity scores/\" + data_type + \"_\" + terr_names[0] + \".pdf\", transparent=False, facecolor='white')\n",
    "    plt.clf()"
   ]
  },
  {
   "cell_type": "code",
   "execution_count": 16,
   "metadata": {},
   "outputs": [
    {
     "data": {
      "text/plain": [
       "<Figure size 6000x4000 with 0 Axes>"
      ]
     },
     "metadata": {},
     "output_type": "display_data"
    }
   ],
   "source": [
    "target_countries = [\"Ethiopia\", \"Chad\", \"Poland\", \"Germany\", \"Peru\"]\n",
    "def compute_cos_scores_with_neighbors(continent, bucket_length):\n",
    "    \n",
    "    d2 = loader.get_continent_specific_case_and_deaths_time_series_data(continent=continent)\n",
    "\n",
    "    # Get countries and territories names in the continent\n",
    "    with open(\"data/territory_names/\" + continent + \"_countries.txt\", \"r\") as f:\n",
    "        country_names = [line.rstrip() for line in f]\n",
    "\n",
    "    neighbors = pd.read_csv(\"data/neighbor_map/neighbors_world.csv\")\n",
    "\n",
    "    data_names = [\"Case Count\", \"Death Count\"]\n",
    "\n",
    "    # For each country, generate the plot in the form of country - neighbors - casecount 0\n",
    "    for df_idx, df in enumerate(d2):\n",
    "        total_days = np.array([\"Day\" in x for x in df.columns]).sum()\n",
    "        for base_country in df[\"Admin0\"]:\n",
    "            # Create a matrix to store processed data [country + neighbors, columns]\n",
    "            if type(neighbors.loc[neighbors[\"Country or territory\"]==base_country][\"neighbor list\"].tolist()[0]) is str:\n",
    "                list_of_neighbors = neighbors.loc[neighbors[\"Country or territory\"]==base_country][\"neighbor list\"].tolist()[0].split(\",\")\n",
    "            else:\n",
    "                continue\n",
    "            list_of_neighbors.insert(0, base_country)\n",
    "            # Remove the neighbors not in the list and leading white space\n",
    "            actual_list = []\n",
    "            for idx in range(len(list_of_neighbors)):\n",
    "                list_of_neighbors[idx] = list_of_neighbors[idx].lstrip()\n",
    "                if list_of_neighbors[idx] in country_names:\n",
    "                    actual_list.append(list_of_neighbors[idx])\n",
    "            list_of_neighbors = actual_list\n",
    "\n",
    "            columns_bucket = [\"Bucket \" + str(bucket) for bucket in range(int((total_days-60)/bucket_length) + 2)]\n",
    "            groups = []\n",
    "            for bucket in range(len(columns_bucket)):\n",
    "                groups.append([\"Day \" + str(day) for day in range(bucket * bucket_length, (bucket + 1) * bucket_length)])\n",
    "            \n",
    "            # Compute the bucket values\n",
    "            for bucket_idx, group in enumerate(groups):\n",
    "                df[columns_bucket[bucket_idx]] = df[group].sum(axis=1)\n",
    "            \n",
    "            # For each country, create a corresponding time series vector\n",
    "            buckets = df[columns_bucket].to_numpy() # num_countries * num_buckets\n",
    "            country_list = list_of_neighbors\n",
    "\n",
    "            cosine_sims = np.zeros([len(country_list), len(country_list)])\n",
    "        \n",
    "            # Compute the cosine similarities for each country\n",
    "            for country_idx, _ in enumerate(country_list):\n",
    "                for target_country_idx, _ in enumerate(country_list):\n",
    "                    cosine_sims[country_idx, target_country_idx] = buckets[country_idx].dot(buckets[target_country_idx]) / (np.linalg.norm(buckets[country_idx]) * np.linalg.norm(buckets[target_country_idx]))\n",
    "            if base_country in target_countries:\n",
    "                plot_sim_scores_for_paper(cosine_sims, country_list, data_names[df_idx], continent)\n",
    "                cosine_sims = np.zeros([len(country_list), len(country_list)])\n",
    "\n",
    "for continent in continent_list:\n",
    "    if continent != \"Asia\":\n",
    "        compute_cos_scores_with_neighbors(continent, 7)"
   ]
  }
 ],
 "metadata": {
  "interpreter": {
   "hash": "53b1cd902798a815781aad891d2788f681d548aef988bfd638b6514fadc72e10"
  },
  "kernelspec": {
   "display_name": "Python 3.8.12 64-bit ('t5': conda)",
   "language": "python",
   "name": "python3"
  },
  "language_info": {
   "codemirror_mode": {
    "name": "ipython",
    "version": 3
   },
   "file_extension": ".py",
   "mimetype": "text/x-python",
   "name": "python",
   "nbconvert_exporter": "python",
   "pygments_lexer": "ipython3",
   "version": "3.8.11"
  },
  "orig_nbformat": 4
 },
 "nbformat": 4,
 "nbformat_minor": 2
}
