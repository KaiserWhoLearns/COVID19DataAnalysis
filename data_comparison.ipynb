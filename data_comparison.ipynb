{
 "cells": [
  {
   "cell_type": "code",
   "execution_count": 1,
   "metadata": {},
   "outputs": [],
   "source": [
    "from cmath import nan\n",
    "from data import loader\n",
    "import pandas as pd\n",
    "import numpy as np\n",
    "import datetime\n",
    "import pdb"
   ]
  },
  {
   "cell_type": "code",
   "execution_count": 4,
   "metadata": {},
   "outputs": [],
   "source": [
    "d1 = loader.get_global_case_and_deaths_time_series_data()\n",
    "oxford_data = pd.read_csv(\"owid-covid-data.csv\")\n",
    "names = [\"case_count\", \"death_count\"]"
   ]
  },
  {
   "cell_type": "markdown",
   "metadata": {},
   "source": [
    "#### 1. Transform Oxford Data to JHU format"
   ]
  },
  {
   "cell_type": "code",
   "execution_count": 7,
   "metadata": {},
   "outputs": [],
   "source": [
    "first_date = datetime.date(2020, 1, 22)\n",
    "oxford_dfs = []\n",
    "for df_idx, df in enumerate(d1):\n",
    "    total_days = np.array([\"Day\" in x for x in df.columns]).sum()\n",
    "    columns = [\"Day \" + str(day) for day in range(total_days)]\n",
    "    columns.insert(0, \"Admin0\")\n",
    "    oxford_df = []\n",
    "    for base_country in df[\"Admin0\"]:\n",
    "        curr_df = [base_country]\n",
    "        for day in range(total_days):\n",
    "            date = first_date + datetime.timedelta(days=day)\n",
    "            if df_idx == 0 and oxford_data.loc[(oxford_data[\"location\"] == base_country) & (oxford_data[\"date\"] == date.isoformat())][\"new_cases\"].empty or \\\n",
    "                df_idx == 1 and oxford_data.loc[(oxford_data[\"location\"] == base_country) & (oxford_data[\"date\"] == date.isoformat())][\"new_deaths\"].empty:\n",
    "                curr_df.append(nan)\n",
    "            else:\n",
    "                if df_idx == 0:\n",
    "                    curr_df.append(float(oxford_data.loc[(oxford_data[\"location\"] == base_country) & (oxford_data[\"date\"] == date.isoformat())][\"new_cases\"]))\n",
    "                else:\n",
    "                    curr_df.append(float(oxford_data.loc[(oxford_data[\"location\"] == base_country) & (oxford_data[\"date\"] == date.isoformat())][\"new_deaths\"]))\n",
    "        oxford_df.append(curr_df)\n",
    "    oxford_dfs.append(pd.DataFrame(oxford_df, columns=columns))\n",
    "names = [\"case_count\", \"death_count\"]\n",
    "for idx, oxford_df in enumerate(oxford_dfs):\n",
    "    oxford_df.to_csv(\"data/oxford_in_JHU_format\" + names[idx] + \".csv\")"
   ]
  },
  {
   "cell_type": "markdown",
   "metadata": {},
   "source": [
    "#### 2. Find Mismatch country names and clean up the transformed data"
   ]
  },
  {
   "cell_type": "code",
   "execution_count": 3,
   "metadata": {},
   "outputs": [
    {
     "name": "stderr",
     "output_type": "stream",
     "text": [
      "/home/kaiser/.local/lib/python3.8/site-packages/pandas/core/strings/accessor.py:101: UserWarning: This pattern has match groups. To actually get the groups, use str.extract.\n",
      "  return func(self, *args, **kwargs)\n"
     ]
    },
    {
     "name": "stdout",
     "output_type": "stream",
     "text": [
      "Countries in oxford but not in JHU:  {'Falkland Islands', 'European Union', 'Oceania', 'Montserrat', 'Cape Verde', 'Bonaire Sint Eustatius and Saba', 'Czechia', 'Wallis and Futuna', 'Northern Cyprus', 'South America', 'Cook Islands', 'Tokelau', 'Jersey', 'Myanmar', 'Hong Kong', 'Isle of Man', 'International', 'Macao', 'North America', 'Cayman Islands', 'Nauru', 'Turkmenistan', 'Gibraltar', 'Pitcairn', 'Curacao', 'Asia', 'British Virgin Islands', 'Democratic Republic of Congo', 'French Polynesia', 'Micronesia (country)', 'Saint Helena', 'New Caledonia', 'Europe', 'United States', 'Sint Maarten (Dutch part)', 'Niue', 'Anguilla', 'Faeroe Islands', 'Tuvalu', 'Greenland', 'Palestine', 'World', 'Turks and Caicos Islands', 'Bermuda', 'Aruba'}\n",
      "Countries in JHU but not in Oxford:  {'US', 'West Bank and Gaza', 'Burma', 'Czech Republic', 'Congo (Kinshasa)', 'Vatican City', 'Cabo Verde', 'Timor-Leste', 'Congo (Brazzaville)'}\n"
     ]
    }
   ],
   "source": [
    "# Find the countries in oxford but not in JHU\n",
    "country_not_in_JHU = set()\n",
    "for country in oxford_data[\"location\"]:\n",
    "    if not d1[0][\"Admin0\"].str.contains(country).any():\n",
    "        country_not_in_JHU.add(country)\n",
    "print(\"Countries in oxford but not in JHU: \", country_not_in_JHU)\n",
    "\n",
    "# Find the countries in JHU but not in Oxford\n",
    "country_not_in_Oxford = set()\n",
    "for country in d1[0][\"Admin0\"]:\n",
    "    if not oxford_data[\"location\"].str.contains(country).any():\n",
    "        country_not_in_Oxford.add(country)\n",
    "print(\"Countries in JHU but not in Oxford: \", country_not_in_Oxford)\n",
    "\n",
    "JHU_Country_to_Oxford = {'US': 'United States', 'Congo (Kinshasa)': 'Democratic Republic of Congo', \n",
    "'Czech Republic': 'Czechia', 'Cabo Verde': 'Cape Verde', 'West Bank and Gaza': 'Palestine', 'Burma': 'Myanmar'}"
   ]
  },
  {
   "cell_type": "markdown",
   "metadata": {},
   "source": [
    "**Countries/Territories in oxford but not in JHU:**  \n",
    "{'Faeroe Islands', 'Nauru', 'Turkmenistan', 'Isle of Man', 'Montserrat', \n",
    "'Aruba', 'Saint Helena', 'Greenland', 'French Polynesia', \n",
    "'Micronesia (country)', 'Curacao', , 'Bermuda', 'Wallis and Futuna', \n",
    "'Anguilla', 'Gibraltar', 'Cayman Islands', 'Sint Maarten (Dutch part)', \n",
    ", 'Falkland Islands', 'Northern Cyprus', '\n",
    "Bonaire Sint Eustatius and Saba', 'British Virgin Islands', 'Cook Islands', \n",
    " 'Niue', 'Hong Kong', 'Tuvalu', 'New Caledonia', 'Macao',\n",
    "'Pitcairn', 'Jersey', 'Tokelau', \n",
    "'Turks and Caicos Islands'}\n",
    "\n",
    "**Countries/Territories in JHU but not in Oxford:**  \n",
    "{'Congo (Brazzaville)', 'Timor-Leste', 'Vatican City'}"
   ]
  },
  {
   "cell_type": "code",
   "execution_count": null,
   "metadata": {},
   "outputs": [],
   "source": [
    "JHU_Country_to_Oxford = {'US': 'United States', 'Congo (Kinshasa)': 'Democratic Republic of Congo', \n",
    "'Czech Republic': 'Czechia', 'Cabo Verde': 'Cape Verde', 'West Bank and Gaza': 'Palestine', 'Burma': 'Myanmar'}\n",
    "\n",
    "oxford_case = pd.read_csv(\"data/oxford_in_JHU_format_case_count.csv\")\n",
    "oxford_death = pd.read_csv(\"data/oxford_in_JHU_format_death_count.csv\")\n",
    "oxford_dfs = [oxford_case, oxford_death]"
   ]
  },
  {
   "cell_type": "code",
   "execution_count": null,
   "metadata": {},
   "outputs": [],
   "source": [
    "# Add the clean countries to oxford data, too\n",
    "for df_idx, df in enumerate(d1):\n",
    "    first_date = datetime.date(2020, 1, 22)\n",
    "    total_days = np.array([\"Day\" in x for x in df.columns]).sum()\n",
    "    columns = [\"Day \" + str(day) for day in range(total_days)]\n",
    "    columns.insert(0, \"Admin0\")\n",
    "    for country in JHU_Country_to_Oxford:\n",
    "        ctry_df = {\"Admin0\": country}\n",
    "        for day in range(total_days):\n",
    "            if df_idx == 0:\n",
    "                ctry_df[\"Day \" + str(day)] = float(oxford_data.loc[(oxford_data[\"location\"] == JHU_Country_to_Oxford[country]) & (oxford_data[\"date\"] == date.isoformat())][\"new_cases\"])\n",
    "            else:\n",
    "                ctry_df[\"Day \" + str(day)] = float(oxford_data.loc[(oxford_data[\"location\"] == JHU_Country_to_Oxford[country]) & (oxford_data[\"date\"] == date.isoformat())][\"new_deaths\"])\n",
    "        oxford_dfs[df_idx] = oxford_dfs[df_idx].append(ctry_df, ignore_index=True)\n",
    "\n",
    "for idx, oxford_df in enumerate(oxford_dfs):\n",
    "    oxford_df.to_csv(\"data/oxford_in_JHU_format\" + names[idx] + \".csv\")"
   ]
  }
 ],
 "metadata": {
  "interpreter": {
   "hash": "53b1cd902798a815781aad891d2788f681d548aef988bfd638b6514fadc72e10"
  },
  "kernelspec": {
   "display_name": "Python 3.8.12 64-bit ('t5': conda)",
   "language": "python",
   "name": "python3"
  },
  "language_info": {
   "codemirror_mode": {
    "name": "ipython",
    "version": 3
   },
   "file_extension": ".py",
   "mimetype": "text/x-python",
   "name": "python",
   "nbconvert_exporter": "python",
   "pygments_lexer": "ipython3",
   "version": "3.8.12"
  },
  "orig_nbformat": 4
 },
 "nbformat": 4,
 "nbformat_minor": 2
}
