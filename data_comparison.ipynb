{
 "cells": [
  {
   "cell_type": "code",
   "execution_count": 1,
   "metadata": {},
   "outputs": [],
   "source": [
    "from cmath import nan\n",
    "from data import loader\n",
    "import pandas as pd\n",
    "import numpy as np\n",
    "import datetime\n",
    "import pdb"
   ]
  },
  {
   "cell_type": "code",
   "execution_count": 5,
   "metadata": {},
   "outputs": [],
   "source": [
    "# d1 = loader.get_global_case_and_deaths_time_series_data()\n",
    "d1 = loader.get_global_raw_case_and_death_time_series_data()\n",
    "oxford_data = pd.read_csv(\"owid-covid-data.csv\")\n",
    "names = [\"case_count\", \"death_count\"]\n",
    "first_date = datetime.date(2020, 1, 22)"
   ]
  },
  {
   "cell_type": "markdown",
   "metadata": {},
   "source": [
    "#### 1. Transform Oxford Data to JHU format"
   ]
  },
  {
   "cell_type": "code",
   "execution_count": 6,
   "metadata": {},
   "outputs": [
    {
     "name": "stderr",
     "output_type": "stream",
     "text": [
      "/home/kaiser/.local/lib/python3.8/site-packages/pandas/core/strings/accessor.py:101: UserWarning: This pattern has match groups. To actually get the groups, use str.extract.\n",
      "  return func(self, *args, **kwargs)\n"
     ]
    }
   ],
   "source": [
    "oxford_dfs = []\n",
    "for df_idx, df in enumerate(d1):\n",
    "    total_days = np.array([\"Day\" in x for x in df.columns]).sum()\n",
    "    columns = [\"Day \" + str(day) for day in range(total_days)]\n",
    "    columns.insert(0, \"Admin0\")\n",
    "    oxford_df = []\n",
    "    for base_country in df[\"Admin0\"]:\n",
    "        curr_df = [base_country]\n",
    "        for day in range(total_days):\n",
    "            date = first_date + datetime.timedelta(days=day)\n",
    "            if df_idx == 0 and oxford_data.loc[(oxford_data[\"location\"] == base_country) & (oxford_data[\"date\"] == date.isoformat())][\"new_cases\"].empty or \\\n",
    "                df_idx == 1 and oxford_data.loc[(oxford_data[\"location\"] == base_country) & (oxford_data[\"date\"] == date.isoformat())][\"new_deaths\"].empty:\n",
    "                curr_df.append(nan)\n",
    "            else:\n",
    "                if df_idx == 0:\n",
    "                    curr_df.append(float(oxford_data.loc[(oxford_data[\"location\"] == base_country) & (oxford_data[\"date\"] == date.isoformat())][\"new_cases\"]))\n",
    "                else:\n",
    "                    curr_df.append(float(oxford_data.loc[(oxford_data[\"location\"] == base_country) & (oxford_data[\"date\"] == date.isoformat())][\"new_deaths\"]))\n",
    "        if oxford_data[\"location\"].str.contains(base_country).any():\n",
    "            oxford_df.append(curr_df)\n",
    "    oxford_dfs.append(pd.DataFrame(oxford_df, columns=columns))\n",
    "names = [\"case_count\", \"death_count\"]\n",
    "for idx, oxford_df in enumerate(oxford_dfs):\n",
    "    oxford_df.to_csv(\"data/oxford_in_JHU_format_\" + names[idx] + \".csv\")"
   ]
  },
  {
   "cell_type": "markdown",
   "metadata": {},
   "source": [
    "#### 2. Find Mismatch country names and clean up the transformed data"
   ]
  },
  {
   "cell_type": "code",
   "execution_count": 7,
   "metadata": {},
   "outputs": [
    {
     "name": "stdout",
     "output_type": "stream",
     "text": [
      "Countries in oxford but not in JHU:  {'United States', 'Cayman Islands', 'Greenland', 'Niue', 'Tokelau', 'British Virgin Islands', 'World', 'Palestine', 'New Caledonia', 'Jersey', 'Europe', 'Anguilla', 'International', 'Czechia', 'Wallis and Futuna', 'Asia', 'Tuvalu', 'Pitcairn', 'Bermuda', 'Montserrat', 'Nauru', 'Aruba', 'Gibraltar', 'Malaysia', 'South America', 'French Polynesia', 'Oceania', 'Bonaire Sint Eustatius and Saba', 'Micronesia (country)', 'Myanmar', 'Turks and Caicos Islands', 'Faeroe Islands', 'Democratic Republic of Congo', 'Curacao', 'North America', 'Sint Maarten (Dutch part)', 'China', 'Cape Verde', 'European Union', 'Falkland Islands', 'Cook Islands', 'Turkmenistan', 'Saint Helena', 'Northern Cyprus', 'Isle of Man', 'Hong Kong', 'Canada', 'Macao'}\n",
      "Countries in JHU but not in Oxford:  {'West Bank and Gaza', 'Cabo Verde', 'Vatican City', 'Czech Republic', 'Congo (Brazzaville)', 'Timor-Leste', 'Burma', 'Congo (Kinshasa)'}\n"
     ]
    }
   ],
   "source": [
    "# Find the countries in oxford but not in JHU\n",
    "country_not_in_JHU = set()\n",
    "for country in oxford_data[\"location\"]:\n",
    "    if not d1[0][\"Admin0\"].str.contains(country).any():\n",
    "        country_not_in_JHU.add(country)\n",
    "print(\"Countries in oxford but not in JHU: \", country_not_in_JHU)\n",
    "\n",
    "# Find the countries in JHU but not in Oxford\n",
    "country_not_in_Oxford = set()\n",
    "for country in d1[0][\"Admin0\"]:\n",
    "    if not oxford_data[\"location\"].str.contains(country).any():\n",
    "        country_not_in_Oxford.add(country)\n",
    "print(\"Countries in JHU but not in Oxford: \", country_not_in_Oxford)\n",
    "\n",
    "JHU_Country_to_Oxford = {'US': 'United States', 'Congo (Kinshasa)': 'Democratic Republic of Congo', \n",
    "'Czech Republic': 'Czechia', 'Cabo Verde': 'Cape Verde', 'West Bank and Gaza': 'Palestine', 'Burma': 'Myanmar'}"
   ]
  },
  {
   "cell_type": "markdown",
   "metadata": {},
   "source": [
    "**Countries/Territories in oxford but not in JHU:**  \n",
    "{'Faeroe Islands', 'Nauru', 'Turkmenistan', 'Isle of Man', 'Montserrat', \n",
    "'Aruba', 'Saint Helena', 'Greenland', 'French Polynesia', \n",
    "'Micronesia (country)', 'Curacao', , 'Bermuda', 'Wallis and Futuna', \n",
    "'Anguilla', 'Gibraltar', 'Cayman Islands', 'Sint Maarten (Dutch part)', \n",
    ", 'Falkland Islands', 'Northern Cyprus', '\n",
    "Bonaire Sint Eustatius and Saba', 'British Virgin Islands', 'Cook Islands', \n",
    " 'Niue', 'Hong Kong', 'Tuvalu', 'New Caledonia', 'Macao',\n",
    "'Pitcairn', 'Jersey', 'Tokelau', \n",
    "'Turks and Caicos Islands'}\n",
    "\n",
    "**Countries/Territories in JHU but not in Oxford:**  \n",
    "{'Congo (Brazzaville)', 'Timor-Leste', 'Vatican City'}"
   ]
  },
  {
   "cell_type": "code",
   "execution_count": 8,
   "metadata": {},
   "outputs": [],
   "source": [
    "JHU_Country_to_Oxford = {'US': 'United States', 'Congo (Kinshasa)': 'Democratic Republic of Congo', \n",
    "'Czech Republic': 'Czechia', 'Cabo Verde': 'Cape Verde', 'West Bank and Gaza': 'Palestine', 'Burma': 'Myanmar'}\n",
    "\n",
    "oxford_case = pd.read_csv(\"data/oxford_in_JHU_format_case_count.csv\")\n",
    "oxford_death = pd.read_csv(\"data/oxford_in_JHU_format_death_count.csv\")\n",
    "oxford_dfs = [oxford_case, oxford_death]"
   ]
  },
  {
   "cell_type": "code",
   "execution_count": 9,
   "metadata": {},
   "outputs": [],
   "source": [
    "# Add the clean countries to oxford data, too\n",
    "for df_idx, df in enumerate(d1):\n",
    "    total_days = np.array([\"Day\" in x for x in df.columns]).sum()\n",
    "    for country in JHU_Country_to_Oxford.keys():\n",
    "        ctry_df = {\"Admin0\": JHU_Country_to_Oxford[country]}\n",
    "        for day in range(total_days):\n",
    "            date = first_date + datetime.timedelta(days=day)\n",
    "            if df_idx == 0:\n",
    "                ctry_df[\"Day \" + str(day)] = float(oxford_data.loc[(oxford_data[\"location\"] == JHU_Country_to_Oxford[country]) & (oxford_data[\"date\"] == date.isoformat())][\"new_cases\"]) if not oxford_data.loc[(oxford_data[\"location\"] == JHU_Country_to_Oxford[country]) & (oxford_data[\"date\"] == date.isoformat())][\"new_cases\"].empty else nan\n",
    "            else:\n",
    "                ctry_df[\"Day \" + str(day)] = float(oxford_data.loc[(oxford_data[\"location\"] == JHU_Country_to_Oxford[country]) & (oxford_data[\"date\"] == date.isoformat())][\"new_deaths\"]) if not oxford_data.loc[(oxford_data[\"location\"] == JHU_Country_to_Oxford[country]) & (oxford_data[\"date\"] == date.isoformat())][\"new_deaths\"].empty else nan\n",
    "        oxford_dfs[df_idx] = oxford_dfs[df_idx].append(ctry_df, ignore_index=True)\n",
    "\n",
    "for idx, oxford_df in enumerate(oxford_dfs):\n",
    "    oxford_df.to_csv(\"data/oxford_in_JHU_format_\" + names[idx] + \".csv\")"
   ]
  },
  {
   "cell_type": "markdown",
   "metadata": {},
   "source": [
    "#### 3. Compare the difference between Oxford and JHU data"
   ]
  },
  {
   "cell_type": "code",
   "execution_count": 10,
   "metadata": {},
   "outputs": [],
   "source": [
    "oxford_case = pd.read_csv(\"data/oxford_in_JHU_format_case_count.csv\")\n",
    "oxford_death = pd.read_csv(\"data/oxford_in_JHU_format_death_count.csv\")\n",
    "oxford_dfs = [oxford_case, oxford_death]"
   ]
  },
  {
   "cell_type": "code",
   "execution_count": 11,
   "metadata": {},
   "outputs": [
    {
     "name": "stdout",
     "output_type": "stream",
     "text": [
      "[             Admin0  Day 0  Day 1  Day 2  Day 3  Day 4  Day 5  Day 6  Day 7  \\\n",
      "0       Afghanistan      0      0      0      0      0      0      0      0   \n",
      "1           Albania      0      0      0      0      0      0      0      0   \n",
      "2           Algeria      0      0      0      0      0      0      0      0   \n",
      "3           Andorra      0      0      0      0      0      0      0      0   \n",
      "4            Angola      0      0      0      0      0      0      0      0   \n",
      "..              ...    ...    ...    ...    ...    ...    ...    ...    ...   \n",
      "177           Chile      0      0      0      0      0      0      0      0   \n",
      "178         Ukraine      0      0      0      0      0      0      0      0   \n",
      "179            Peru      0      0      0      0      0      0      0      0   \n",
      "180        Guernsey      0      0      0      0      0      0      0      0   \n",
      "181  United Kingdom      0      0      0      0      0      0      0      0   \n",
      "\n",
      "     Day 8  ...  Day 723  Day 724  Day 725  Day 726  Day 727  Day 728  \\\n",
      "0        0  ...        0        0        0        0        0        0   \n",
      "1        0  ...        0        0        0        0        0        0   \n",
      "2        0  ...        0        0        0        0        0        0   \n",
      "3        0  ...        0        0        0        0        0        0   \n",
      "4        0  ...        0        0        0        0        0        0   \n",
      "..     ...  ...      ...      ...      ...      ...      ...      ...   \n",
      "177      0  ...        0        0        0        0        0        0   \n",
      "178      0  ...        0        0        0        0        0        0   \n",
      "179      0  ...        0        0        0        0        0        0   \n",
      "180      0  ...        0        0        0        0        0        0   \n",
      "181      0  ...        0        0        0        0        0        0   \n",
      "\n",
      "     Day 729  Day 730  Day 731  Day 732  \n",
      "0          0        0        0        0  \n",
      "1          0        0        0        0  \n",
      "2          0        0        0        0  \n",
      "3          0        0        0        0  \n",
      "4          0        0        0        0  \n",
      "..       ...      ...      ...      ...  \n",
      "177        0        0        0        0  \n",
      "178        0        0        0        0  \n",
      "179        0        0        0        0  \n",
      "180        0        0        0        0  \n",
      "181        0        0        0        0  \n",
      "\n",
      "[182 rows x 734 columns],              Admin0  Day 0  Day 1  Day 2  Day 3  Day 4  Day 5  Day 6  Day 7  \\\n",
      "0       Afghanistan      0      0      0      0      0      0      0      0   \n",
      "1           Albania      0      0      0      0      0      0      0      0   \n",
      "2           Algeria      0      0      0      0      0      0      0      0   \n",
      "3           Andorra      0      0      0      0      0      0      0      0   \n",
      "4            Angola      0      0      0      0      0      0      0      0   \n",
      "..              ...    ...    ...    ...    ...    ...    ...    ...    ...   \n",
      "177           Chile      0      0      0      0      0      0      0      0   \n",
      "178         Ukraine      0      0      0      0      0      0      0      0   \n",
      "179            Peru      0      0      0      0      0      0      0      0   \n",
      "180        Guernsey      0      0      0      0      0      0      0      0   \n",
      "181  United Kingdom      0      0      0      0      0      0      0      0   \n",
      "\n",
      "     Day 8  ...  Day 723  Day 724  Day 725  Day 726  Day 727  Day 728  \\\n",
      "0        0  ...        0        0        0        0        0        0   \n",
      "1        0  ...        0        0        0        0        0        0   \n",
      "2        0  ...        0        0        0        0        0        0   \n",
      "3        0  ...        0        0        0        0        0        0   \n",
      "4        0  ...        0        0        0        0        0        0   \n",
      "..     ...  ...      ...      ...      ...      ...      ...      ...   \n",
      "177      0  ...        0        0        0        0        0        0   \n",
      "178      0  ...        0        0        0        0        0        0   \n",
      "179      0  ...        0        0        0        0        0        0   \n",
      "180      0  ...        0        0        0        0        0        0   \n",
      "181      0  ...        0        0        0        0        0        0   \n",
      "\n",
      "     Day 729  Day 730  Day 731  Day 732  \n",
      "0          0        0        0        0  \n",
      "1          0        0        0        0  \n",
      "2          0        0        0        0  \n",
      "3          0        0        0        0  \n",
      "4          0        0        0        0  \n",
      "..       ...      ...      ...      ...  \n",
      "177        0        0        0        0  \n",
      "178        0        0        0        0  \n",
      "179        0        0        0        0  \n",
      "180        0        0        0        0  \n",
      "181        0        0        0        0  \n",
      "\n",
      "[182 rows x 734 columns]]\n",
      "[             Admin0  Day 0  Day 1  Day 2  Day 3  Day 4  Day 5  Day 6  Day 7  \\\n",
      "0       Afghanistan    0.0    0.0    0.0    0.0    0.0    0.0    0.0    0.0   \n",
      "1           Albania    0.0    0.0    0.0    0.0    0.0    0.0    0.0    0.0   \n",
      "2           Algeria    0.0    0.0    0.0    0.0    0.0    0.0    0.0    0.0   \n",
      "3           Andorra    0.0    0.0    0.0    0.0    0.0    0.0    0.0    0.0   \n",
      "4            Angola    0.0    0.0    0.0    0.0    0.0    0.0    0.0    0.0   \n",
      "..              ...    ...    ...    ...    ...    ...    ...    ...    ...   \n",
      "177           Chile    0.0    0.0    0.0    0.0    0.0    0.0    0.0    0.0   \n",
      "178         Ukraine    0.0    0.0    0.0    0.0    0.0    0.0    0.0    0.0   \n",
      "179            Peru    0.0    0.0    0.0    0.0    0.0    0.0    0.0    0.0   \n",
      "180        Guernsey    0.0    0.0    0.0    0.0    0.0    0.0    0.0    0.0   \n",
      "181  United Kingdom    0.0    0.0    0.0    0.0    0.0    0.0    0.0    0.0   \n",
      "\n",
      "     Day 8  ...  Day 723  Day 724  Day 725  Day 726  Day 727  Day 728  \\\n",
      "0      0.0  ...     37.0     39.0     39.0    109.0    148.0     96.0   \n",
      "1      0.0  ...   2179.0   2163.0   1697.0   1017.0   2832.0   2643.0   \n",
      "2      0.0  ...    596.0    505.0    573.0    692.0    810.0   1359.0   \n",
      "3      0.0  ...    989.0      0.0      0.0      0.0      0.0      0.0   \n",
      "4      0.0  ...    721.0    222.0    170.0    280.0    301.0    504.0   \n",
      "..     ...  ...      ...      ...      ...      ...      ...      ...   \n",
      "177    0.0  ...      NaN      NaN      NaN      NaN      NaN      NaN   \n",
      "178    0.0  ...      NaN      NaN      NaN      NaN      NaN      NaN   \n",
      "179    0.0  ...      NaN      NaN      NaN      NaN      NaN      NaN   \n",
      "180    0.0  ...      NaN      NaN      NaN      NaN      NaN      NaN   \n",
      "181    0.0  ...      NaN      NaN      NaN      NaN      NaN      NaN   \n",
      "\n",
      "     Day 729  Day 730  Day 731  Day 732  \n",
      "0      233.0    213.0     32.0    101.0  \n",
      "1     2383.0   2670.0   2230.0   1658.0  \n",
      "2     1552.0   1855.0   2211.0   2134.0  \n",
      "3     2313.0    824.0      0.0      0.0  \n",
      "4      441.0    456.0    226.0    680.0  \n",
      "..       ...      ...      ...      ...  \n",
      "177      NaN      NaN      NaN      NaN  \n",
      "178      NaN      NaN      NaN      NaN  \n",
      "179      NaN      NaN      NaN      NaN  \n",
      "180      NaN      NaN      NaN      NaN  \n",
      "181      NaN      NaN      NaN      NaN  \n",
      "\n",
      "[182 rows x 734 columns],              Admin0  Day 0  Day 1  Day 2  Day 3  Day 4  Day 5  Day 6  Day 7  \\\n",
      "0       Afghanistan    0.0    0.0    0.0    0.0    0.0    0.0    0.0    0.0   \n",
      "1           Albania    0.0    0.0    0.0    0.0    0.0    0.0    0.0    0.0   \n",
      "2           Algeria    0.0    0.0    0.0    0.0    0.0    0.0    0.0    0.0   \n",
      "3           Andorra    0.0    0.0    0.0    0.0    0.0    0.0    0.0    0.0   \n",
      "4            Angola    0.0    0.0    0.0    0.0    0.0    0.0    0.0    0.0   \n",
      "..              ...    ...    ...    ...    ...    ...    ...    ...    ...   \n",
      "177           Chile    0.0    0.0    0.0    0.0    0.0    0.0    0.0    0.0   \n",
      "178         Ukraine    0.0    0.0    0.0    0.0    0.0    0.0    0.0    0.0   \n",
      "179            Peru    0.0    0.0    0.0    0.0    0.0    0.0    0.0    0.0   \n",
      "180        Guernsey    0.0    0.0    0.0    0.0    0.0    0.0    0.0    0.0   \n",
      "181  United Kingdom    0.0    0.0    0.0    0.0    0.0    0.0    0.0    0.0   \n",
      "\n",
      "     Day 8  ...  Day 723  Day 724  Day 725  Day 726  Day 727  Day 728  \\\n",
      "0      0.0  ...      0.0      2.0      1.0      2.0      2.0      3.0   \n",
      "1      0.0  ...      7.0      3.0      4.0      2.0      6.0      6.0   \n",
      "2      0.0  ...     10.0     11.0      8.0     11.0     12.0      8.0   \n",
      "3      0.0  ...      1.0      0.0      0.0      0.0      0.0      0.0   \n",
      "4      0.0  ...      5.0      5.0      6.0      3.0      4.0      7.0   \n",
      "..     ...  ...      ...      ...      ...      ...      ...      ...   \n",
      "177    0.0  ...      NaN      NaN      NaN      NaN      NaN      NaN   \n",
      "178    0.0  ...      NaN      NaN      NaN      NaN      NaN      NaN   \n",
      "179    0.0  ...      NaN      NaN      NaN      NaN      NaN      NaN   \n",
      "180    0.0  ...      NaN      NaN      NaN      NaN      NaN      NaN   \n",
      "181    0.0  ...      NaN      NaN      NaN      NaN      NaN      NaN   \n",
      "\n",
      "     Day 729  Day 730  Day 731  Day 732  \n",
      "0        0.0      4.0      0.0      3.0  \n",
      "1        3.0      6.0      5.0      8.0  \n",
      "2       10.0     15.0     13.0     14.0  \n",
      "3        2.0      0.0      0.0      0.0  \n",
      "4        4.0      3.0      2.0      2.0  \n",
      "..       ...      ...      ...      ...  \n",
      "177      NaN      NaN      NaN      NaN  \n",
      "178      NaN      NaN      NaN      NaN  \n",
      "179      NaN      NaN      NaN      NaN  \n",
      "180      NaN      NaN      NaN      NaN  \n",
      "181      NaN      NaN      NaN      NaN  \n",
      "\n",
      "[182 rows x 734 columns]]\n"
     ]
    }
   ],
   "source": [
    "import math\n",
    "first_date = datetime.date(2020, 1, 22)\n",
    "total_days = np.array([\"Day\" in x for x in d1[0].columns]).sum()\n",
    "\n",
    "# For each country, get difference in days, and average difference througout the days, both count and not count missing days\n",
    "diff_dfs_count_missing = []\n",
    "diff_dfs_not_count_missing = []\n",
    "for dx_idx, df in enumerate(d1):\n",
    "    diff_df_count = []\n",
    "    diff_df_not_count = []\n",
    "    for jhu_country in df[\"Admin0\"]:\n",
    "        if oxford_dfs[df_idx][\"Admin0\"].str.contains(jhu_country).any():\n",
    "            ctry_df_count_missing = {\"Admin0\": jhu_country}\n",
    "            ctry_df_not_count_missing = {\"Admin0\": jhu_country}\n",
    "            for day in range(total_days):\n",
    "                if jhu_country not in JHU_Country_to_Oxford:\n",
    "                    oxford_count = oxford_dfs[df_idx].loc[oxford_dfs[df_idx][\"Admin0\"] == jhu_country][\"Day \" + str(day)].values[0]\n",
    "                else:\n",
    "                    oxford_count = oxford_dfs[df_idx].loc[oxford_dfs[df_idx][\"Admin0\"] == JHU_Country_to_Oxford[jhu_country]][\"Day \" + str(day)].values[0]\n",
    "                \n",
    "                if math.isnan(oxford_count):\n",
    "                    ctry_df_count_missing[\"Day \" + str(day)] = df.loc[df[\"Admin0\"] == jhu_country][\"Day \" + str(day)].values[0]\n",
    "                    ctry_df_not_count_missing[\"Day \" + str(day)] = 0\n",
    "                else:\n",
    "                    ctry_df_count_missing[\"Day \" + str(day)] = df.loc[df[\"Admin0\"] == jhu_country][\"Day \" + str(day)].values[0] - oxford_count\n",
    "                    ctry_df_not_count_missing[\"Day \" + str(day)] = df.loc[df[\"Admin0\"] == jhu_country][\"Day \" + str(day)].values[0] - oxford_count\n",
    "            diff_df_count.append(ctry_df_count_missing)\n",
    "            diff_df_not_count.append(ctry_df_not_count_missing)\n",
    "    diff_dfs_not_count_missing.append(pd.DataFrame(diff_df_not_count))\n",
    "    diff_dfs_count_missing.append(pd.DataFrame(diff_df_count))\n",
    "print(diff_dfs_not_count_missing)\n",
    "print(diff_dfs_count_missing)"
   ]
  },
  {
   "cell_type": "code",
   "execution_count": 24,
   "metadata": {},
   "outputs": [
    {
     "name": "stdout",
     "output_type": "stream",
     "text": [
      "Average difference over countries and over days:  628.041835974394\n"
     ]
    },
    {
     "data": {
      "image/png": "[encoded data removed]",
      "text/plain": [
       "<Figure size 432x288 with 1 Axes>"
      ]
     },
     "metadata": {
      "needs_background": "light"
     },
     "output_type": "display_data"
    },
    {
     "name": "stdout",
     "output_type": "stream",
     "text": [
      "Average difference over countries and over days:  -0.01010951531415379\n"
     ]
    },
    {
     "data": {
      "image/png": "[encoded data removed]",
      "text/plain": [
       "<Figure size 432x288 with 1 Axes>"
      ]
     },
     "metadata": {
      "needs_background": "light"
     },
     "output_type": "display_data"
    }
   ],
   "source": [
    "import matplotlib.pyplot as plt\n",
    "\n",
    "differences = []\n",
    "averages_collec = []\n",
    "for df_idx, df in enumerate(diff_dfs_not_count_missing):\n",
    "    countries = df[\"Admin0\"].tolist()\n",
    "    diff = df.iloc[:, 1:].to_numpy(na_value = 0)\n",
    "    xtick = [str(i) for i in range(diff.shape[1])]\n",
    "    averages = np.average(diff, axis=1)\n",
    "    averages_collec.append(averages)\n",
    "    print(\"Average difference over countries and over days: \", np.average(averages))\n",
    "    x = np.arange(averages.shape[0])\n",
    "    plt.bar(x, height=averages)\n",
    "    plt.xticks(x, countries)\n",
    "    plt.title(\"Average difference \" + names[df_idx] + \" over counries\")\n",
    "    plt.show()\n",
    "    # for idx, row in enumerate(diff):\n",
    "    #     x = np.arange(row.shape[0])\n",
    "    #     plt.bar(x, height=row)\n",
    "    #     plt.xticks(x, xtick)\n",
    "    #     plt.title(\"Difference for \" + names[df_idx] + \" counts without counting missing\")\n",
    "    #     plt.show()\n",
    "        \n"
   ]
  },
  {
   "cell_type": "markdown",
   "metadata": {},
   "source": [
    "#### Plot the difference grouped by continent"
   ]
  },
  {
   "cell_type": "code",
   "execution_count": 25,
   "metadata": {},
   "outputs": [],
   "source": [
    "def load_country_names_by_continent(continent):\n",
    "    with open(\"data/territory_names/\" + continent + \"_countries.txt\", \"r\") as f:\n",
    "        country_names = [line.rstrip() for line in f]\n",
    "    return country_names"
   ]
  },
  {
   "cell_type": "code",
   "execution_count": 26,
   "metadata": {},
   "outputs": [
    {
     "name": "stdout",
     "output_type": "stream",
     "text": [
      "None\n",
      "> \u001b[0;32m/tmp/ipykernel_2654830/3617311879.py\u001b[0m(14)\u001b[0;36m<module>\u001b[0;34m()\u001b[0m\n",
      "\u001b[0;32m     12 \u001b[0;31m                \u001b[0mcont_countries_clean\u001b[0m\u001b[0;34m.\u001b[0m\u001b[0mappend\u001b[0m\u001b[0;34m(\u001b[0m\u001b[0mcountry\u001b[0m\u001b[0;34m)\u001b[0m\u001b[0;34m\u001b[0m\u001b[0;34m\u001b[0m\u001b[0m\n",
      "\u001b[0m\u001b[0;32m     13 \u001b[0;31m        \u001b[0mpdb\u001b[0m\u001b[0;34m.\u001b[0m\u001b[0mset_trace\u001b[0m\u001b[0;34m(\u001b[0m\u001b[0;34m)\u001b[0m\u001b[0;34m\u001b[0m\u001b[0;34m\u001b[0m\u001b[0m\n",
      "\u001b[0m\u001b[0;32m---> 14 \u001b[0;31m        \u001b[0mcountry_avg\u001b[0m \u001b[0;34m=\u001b[0m \u001b[0maverages\u001b[0m\u001b[0;34m[\u001b[0m\u001b[0mcountry_indices\u001b[0m\u001b[0;34m]\u001b[0m\u001b[0;34m\u001b[0m\u001b[0;34m\u001b[0m\u001b[0m\n",
      "\u001b[0m\u001b[0;32m     15 \u001b[0;31m        \u001b[0mprint\u001b[0m\u001b[0;34m(\u001b[0m\u001b[0;34m\"Average difference of \"\u001b[0m \u001b[0;34m+\u001b[0m \u001b[0mnames\u001b[0m\u001b[0;34m[\u001b[0m\u001b[0midx\u001b[0m\u001b[0;34m]\u001b[0m \u001b[0;34m+\u001b[0m \u001b[0;34m\" in \"\u001b[0m \u001b[0;34m+\u001b[0m \u001b[0mcontinent\u001b[0m\u001b[0;34m,\u001b[0m \u001b[0mnp\u001b[0m\u001b[0;34m.\u001b[0m\u001b[0maverage\u001b[0m\u001b[0;34m(\u001b[0m\u001b[0mcountry_avg\u001b[0m\u001b[0;34m)\u001b[0m\u001b[0;34m)\u001b[0m\u001b[0;34m\u001b[0m\u001b[0;34m\u001b[0m\u001b[0m\n",
      "\u001b[0m\u001b[0;32m     16 \u001b[0;31m        \u001b[0mx\u001b[0m \u001b[0;34m=\u001b[0m \u001b[0mnp\u001b[0m\u001b[0;34m.\u001b[0m\u001b[0marange\u001b[0m\u001b[0;34m(\u001b[0m\u001b[0mcountry_avg\u001b[0m\u001b[0;34m.\u001b[0m\u001b[0mshape\u001b[0m\u001b[0;34m[\u001b[0m\u001b[0;36m0\u001b[0m\u001b[0;34m]\u001b[0m\u001b[0;34m)\u001b[0m\u001b[0;34m\u001b[0m\u001b[0;34m\u001b[0m\u001b[0m\n",
      "\u001b[0m\n"
     ]
    }
   ],
   "source": [
    "continents = {\"NorthAmerica\", \"SouthAmerica\", \"Africa\", \"Europe\"}\n",
    "\n",
    "for continent in continents:\n",
    "    cont_countries = load_country_names_by_continent(continent)\n",
    "    # Retrieve the case count and death count for corresponding countries\n",
    "    cont_countries_clean = []\n",
    "    for idx, averages in enumerate(averages_collec):\n",
    "        country_indices = []\n",
    "        for country in cont_countries:\n",
    "            if country in countries:\n",
    "                country_indices.append(countries.index(country))\n",
    "                cont_countries_clean.append(country)\n",
    "        country_avg = averages[country_indices]\n",
    "        print(\"Average difference of \" + names[idx] + \" in \" + continent, np.average(country_avg))\n",
    "        x = np.arange(country_avg.shape[0])\n",
    "        plt.bar(x, height=country_avg)\n",
    "        plt.xticks(x, cont_countries_clean)\n",
    "        plt.title(\"Average difference \" + names[df_idx] + \" over counries in \" + continent)\n",
    "        plt.show()\n",
    "        \n",
    "\n"
   ]
  }
 ],
 "metadata": {
  "interpreter": {
   "hash": "53b1cd902798a815781aad891d2788f681d548aef988bfd638b6514fadc72e10"
  },
  "kernelspec": {
   "display_name": "Python 3.8.12 64-bit ('t5': conda)",
   "language": "python",
   "name": "python3"
  },
  "language_info": {
   "codemirror_mode": {
    "name": "ipython",
    "version": 3
   },
   "file_extension": ".py",
   "mimetype": "text/x-python",
   "name": "python",
   "nbconvert_exporter": "python",
   "pygments_lexer": "ipython3",
   "version": "3.8.12"
  },
  "orig_nbformat": 4
 },
 "nbformat": 4,
 "nbformat_minor": 2
}
